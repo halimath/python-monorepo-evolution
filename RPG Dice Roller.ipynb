{
  "cells": [
    {
      "cell_type": "markdown",
      "metadata": {},
      "source": [
        "# RPG dice roller\n",
        "\n",
        "This notebook demonstrates how we can develop a roleplaying game dice roller.\n",
        "\n",
        "# Input specs\n",
        "\n",
        "A RPG dice roller expression follows the following syntax:\n",
        "\n",
        "```\n",
        "[<dice count>]d<die num>[(+|-)<mod>]\n",
        "```\n",
        "\n",
        "* `dice count` is an optional (positive) number defining how many dice to roll (or how often to roll a single die and sum up the results)\n",
        "  This number is optional. If not given defaults to 1.\n",
        "* `die num` defines the number of sides the die must have. Valid numbers are 2, 3, 4, 6, 8, 10, 12, 20, 50 and 100\n",
        "* `mod` defines a modifier to apply - a fixed number to either add or subtract from the die/dice roll result.\n",
        "  `mod` and its preceding sign are optional (either sign and number are given or none of them). If no modifier has been given it defaults to 0.\n",
        "\n",
        "## Examples\n",
        "\n",
        "* `d20` means to roll a single 20-sided die\n",
        "* `d20+2` means to roll a single 20-sided die and add `2` to the result\n",
        "* `3d8-5` means to roll three eight-sided dice, add their numbers and subtract `5` from the result\n",
        "\n",
        "# Natural result\n",
        "\n",
        "For some of the rolls it is important to know what the _natural result_ is. The natural result is the result of the die/dice w/o applying the modifier.\n",
        "I.e. when rolling `d20+2` a _natural one_ is ususally considered a _disaster_ where a _natural 20_ is a _triumphal success_."
      ]
    },
    {
      "cell_type": "code",
      "execution_count": 25,
      "metadata": {
        "trusted": true
      },
      "outputs": [
        {
          "name": "stdout",
          "output_type": "stream",
          "text": [
            "Rolling d20: 7 (7+0)\n",
            "Rolling d20-1: 17 (18-1)\n",
            "Rolling 3d8+2: 10 (8+2)\n"
          ]
        }
      ],
      "source": [
        "from random import randrange\n",
        "\n",
        "class Roll:\n",
        "    def __init__(self, expr: str):\n",
        "        expr = expr.lower()\n",
        "        self.count = 1\n",
        "        if expr[0] != 'd':\n",
        "            (c, expr) = expr.split('d')\n",
        "            self.count = int(c)\n",
        "        else:\n",
        "            expr = expr[1:]\n",
        "    \n",
        "        self.num_sides = 0\n",
        "        self.mod = 0\n",
        "        \n",
        "        for idx, c in enumerate(expr):\n",
        "            if c in ('+', '-'):\n",
        "                self.mod = int(expr[idx:])\n",
        "                self.num_sides = int(expr[:idx])\n",
        "    \n",
        "        if self.num_sides == 0:\n",
        "            self.num_sides = int(expr)\n",
        "        \n",
        "        self.natural = sum(randrange(1, self.num_sides) for _ in range(self.count))\n",
        "\n",
        "    @property\n",
        "    def value(self):\n",
        "        return self.natural + self.mod\n",
        "\n",
        "    def __int__ (self):\n",
        "        return self.value\n",
        "\n",
        "    def __format__(self, format):\n",
        "        match format:\n",
        "            case 'd': return str(int(self))\n",
        "            case 'f': return f\"{str(self)}: {self.value} ({self.natural}{self.mod:+})\"\n",
        "            case _: raise TypeError('unsupported format string')\n",
        "    \n",
        "    def __str__(self):\n",
        "        return f\"{'' if self.count == 1 else self.count}d{self.num_sides}{'' if self.mod == 0 else f\"{self.mod:+}\"}\"\n",
        "    \n",
        "    def __repr__(self):\n",
        "        return f\"Roll({str(self)})\"\n",
        "\n",
        "print(f\"Rolling {Roll('d20'):f}\")\n",
        "print(f\"Rolling {Roll('d20-1'):f}\")\n",
        "print(f\"Rolling {Roll('3d8+2'):f}\")"
      ]
    },
    {
      "cell_type": "markdown",
      "metadata": {},
      "source": [
        "# Stochastic analysis\n",
        "\n",
        "Lets see how well the results are distributed. We do this by using `matplotlib` to render a histogram."
      ]
    },
    {
      "cell_type": "code",
      "execution_count": 26,
      "metadata": {
        "trusted": true
      },
      "outputs": [
        {
          "data": {
            "image/png": "[encoded data removed]",
            "text/plain": [
              "<Figure size 640x480 with 1 Axes>"
            ]
          },
          "metadata": {},
          "output_type": "display_data"
        }
      ],
      "source": [
        "import matplotlib.pyplot as plt\n",
        "\n",
        "samples = [int(Roll('3d8+2')) for _ in range(10000)]\n",
        "\n",
        "_, ax = plt.subplots()\n",
        "ax.hist(samples, bins=range(5, 26), linewidth=1, edgecolor=\"white\")\n",
        "ax.set(xlim=(5, 26),\n",
        "    title='Distribution of rolling 3d8+2 for 10,000 times',\n",
        "    xlabel='roll result',\n",
        "    ylabel='# of times result was rolled')\n",
        "\n",
        "plt.show()"
      ]
    },
    {
      "cell_type": "code",
      "execution_count": null,
      "metadata": {
        "trusted": true
      },
      "outputs": [],
      "source": []
    }
  ],
  "metadata": {
    "kernelspec": {
      "display_name": "Python 3",
      "language": "python",
      "name": "python3"
    },
    "language_info": {
      "codemirror_mode": {
        "name": "ipython",
        "version": 3
      },
      "file_extension": ".py",
      "mimetype": "text/x-python",
      "name": "python",
      "nbconvert_exporter": "python",
      "pygments_lexer": "ipython3",
      "version": "3.12.2"
    }
  },
  "nbformat": 4,
  "nbformat_minor": 4
}
